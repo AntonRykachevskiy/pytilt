{
 "cells": [
  {
   "cell_type": "markdown",
   "metadata": {},
   "source": [
    "# Team 1, West Coast Low Ranked \n",
    "\n",
    "Anna Voevodskaya,\n",
    "Iluya Gukov,\n",
    "Polina Sannikova,\n",
    "Anton Rykachevskiy,"
   ]
  },
  {
   "cell_type": "markdown",
   "metadata": {},
   "source": [
    "## Idea & Motivation\n",
    "One fundamental problem of computer vision is to recognize certain features or images in scenes. In this project our team focused on problem of recognizing and extracting regular patterns on planar surface. These patterns also can be described as \"Low-Ranked matrices\". Camera can deform image low-rank image by some affine or projective, so the problem is to find this tranformation, and recover low-rank structure.  \n"
   ]
  },
  {
   "cell_type": "markdown",
   "metadata": {},
   "source": [
    "## Problem formulation.\n",
    "\n",
    "#### Formulation\n",
    "\n",
    "As it was mentioned above, we work with the images which after some homography transformation can be represented as a sum of the low rank matrix $A$ and a sparse error matrix $E$\n",
    " . So we can fromulate the optimization objective in the following way $$\\min rk(A)+\\|E\\|_{0}$$\n",
    " Than we add the constraint $$\\tau I=A+E$$\n",
    " where $\\tau$ is the homograpy we are searching for and $I$ is the matrix of the original image. As it was show recently [1], this problem usually can be reformulated in the following way:\n",
    "\n",
    "$$\\begin{array}{c}\n",
    "\\min\\|A\\|_{\\sigma}+\\|E\\|_{1}\\\\\n",
    "\\tau I=A+E\n",
    "\\end{array}$$\n",
    "\n",
    "#### Summary\n",
    "\n",
    "Our task will be to write python implementation of TILT, and try to evaluate performance."
   ]
  },
  {
   "cell_type": "markdown",
   "metadata": {},
   "source": [
    "## Data.\n",
    "\n",
    "Actually data for this task is floating arround us every second. We used some pictures from original paper[2], and also some pics of Skoltech, chessboard, e.t.c.\n",
    "\n",
    "## Evaluation.\n",
    "\n",
    "#### Homography\n",
    "\n",
    "To strart with let us precisely define the transformations we are working with. Homography is a coordinate transformation which transform lines to lines. In homogenius coordinates it can be represented as $3\\times3$\n",
    "  matrix. We can think of our image as of the continious function of two variables $I(x,y)$\n",
    " , where $I$\n",
    "  defines intensity in target point. Let $H$\n",
    "  be the matrix of homography, than we transform the coordinates in the following way \n",
    "  \n",
    "  $$\\left[\\begin{array}{c}\n",
    "x\\\\\n",
    "y\n",
    "\\end{array}\\right]\\rightarrow\\left[\\begin{array}{c}\n",
    "x\\\\\n",
    "y\\\\\n",
    "1\n",
    "\\end{array}\\right]\\rightarrow H\\left[\\begin{array}{c}\n",
    "x\\\\\n",
    "y\\\\\n",
    "1\n",
    "\\end{array}\\right]\\rightarrow\\left[\\begin{array}{c}\n",
    "u\\\\\n",
    "v\\\\\n",
    "s\n",
    "\\end{array}\\right]\\rightarrow\\left[\\begin{array}{c}\n",
    "\\frac{u}{s}\\\\\n",
    "\\frac{v}{s}\\\\\n",
    "1\n",
    "\\end{array}\\right]\\rightarrow\\left[\\begin{array}{c}\n",
    "\\frac{u}{s}\\\\\n",
    "\\frac{v}{s}\n",
    "\\end{array}\\right]$$\n",
    " And thus intensity is transformed like this $$\\tau I(x,y)=I(\\frac{u}{s},\\frac{v}{s})$$\n",
    " Later we will need a Jacobi matrix of this transformation. "
   ]
  },
  {
   "cell_type": "markdown",
   "metadata": {},
   "source": [
    "#### Optimization\n",
    "\n",
    "$$\\begin{array}{c}\n",
    "\\min_{\\tau,A,E}\\|A\\|_{\\sigma}+\\|E\\|_{1}\\\\\n",
    "\\tau I=A+E\n",
    "\\end{array}$$\n",
    " \n",
    "\n",
    "Objective is convex, but the constrains are strange. So the first idea is to linearise constraints around $\\tau_{o}$\n",
    "  , solve covex problem using ALM, shift tau, and repeat until convergence. So on each step of outer loop we formulate new problem:\n",
    "\n",
    "$$\\begin{array}{c}\n",
    "\\min_{\\Delta\\tau,A,E}\\|A\\|_{\\sigma}+\\|E\\|_{1}\\\\\n",
    "\\tau_{0} I+\\nabla I_{\\tau}\\Delta\\tau=A+E\n",
    "\\end{array}$$\n",
    " \n",
    "\n",
    "This problem is solved using augmented lagrangian. \n",
    "\n",
    "$$L=\\|A\\|_{\\sigma}+\\|E\\|_{1}+\\left\\langle Y,C\\right\\rangle +\\frac{\\mu}{2}\\|C\\|_{F}^{2}$$\n",
    " where $C=\\tau_{0} I+\\nabla I_{\\tau}\\Delta\\tau-A-E$\n",
    " \n",
    "\n",
    "Basic iteration looks like this:\n",
    "\n",
    "$$\\begin{array}{c}\n",
    "A_{k},E_{k},\\Delta\\tau_{k}=argminL(Y=Y_{k-1})\\\\\n",
    "Y_{k}=Y_{k-1}-\\mu_{k-1}C_{k}\\\\\n",
    "\\mu_{k+1}=\\rho\\mu_{k}\n",
    "\\end{array}$$\n",
    " \n",
    "\n",
    "And the first minimization is solved one by one for each variable. \n",
    "\n",
    "\n",
    "Figure 1, is from original paper [2], describes algorithm in details. \n",
    "\n",
    "A little bit more attention should be payed to how we linearize, we need to calculate $\\nabla_{\\tau}I$\n",
    " , where $\\tau$\n",
    "  should be considered as a parametres of transformation. We calculate it the following way:\n",
    "\n",
    "$$\\nabla_{\\tau}I=\\frac{\\partial}{\\partial\\tau_{i}}I(x,y)=\\frac{\\partial}{\\partial\\tau_{i}}I(H(\\tau)(u,v))=\\frac{\\partial I}{\\partial u}\\frac{\\partial u}{\\partial\\tau_{i}}+\\frac{\\partial I}{\\partial v}\\frac{\\partial v}{\\partial\\tau_{i}}$$\n",
    " "
   ]
  },
  {
   "cell_type": "markdown",
   "metadata": {},
   "source": [
    "#### Additional improvments\n",
    "\n",
    "First of all we use kind of branch and bound approach to define best initial transformation. We initialize few different rotation matrixes, apply corresponding transformations to the images, calculate the objective, and choose the one which has lowest objective. We do the same for a set of shift matrix, and set initial matrix as a multiplication of choosen shifts and rotates. \n",
    "\n",
    "The second idea is to blur image before processing, this makes structures “more low ranked”, for example text becomes more low ranked, after bluring. \n",
    "\n",
    "The last idea is to use pyramid approach. To proceed resized image first and than use transformation we obtained as initial for the whole sized picture. This works well, especcially if we need to proceed large images. "
   ]
  },
  {
   "cell_type": "markdown",
   "metadata": {},
   "source": [
    "## Related work\n",
    "\n",
    "The list of related articles can be found in literature. Actually this exact algorithm was realised on matlab by Visual Computing Group, Microsoft Research Asia, Beijing and Coordinated Science Lab, University of Illinois at Urbana-Champaign [2]. Also some job was done to recover the shapes of cilindrical objects with low ranked structers on them[3]"
   ]
  },
  {
   "cell_type": "markdown",
   "metadata": {},
   "source": [
    "## Our results\n",
    "\n",
    "#### Code\n",
    "\n",
    "Working code of TILT on python can be found here https://github.com/AntonRykachevskiy/pytilt\n",
    "\n",
    "When you run the code, the picture you have loaded appears, and you have to click on the upper left point of the lowranked region, and close the picture, it appears again and you click on the bottom right corner, and close it again. After some time program will produce a result"
   ]
  },
  {
   "cell_type": "markdown",
   "metadata": {},
   "source": [
    "#### How it looks\n",
    "Here some of our results. Purple is original window set by the user, yellow is a window with low ranked texture, which after transformation will be in the coordinates of original. \n",
    "\n",
    "<img src = './1.png'>\n",
    "\n",
    "Also we can transform the original image after we found transformation. *here we should be carefull because the  transformaton center is in the center of the region, user have chosen, so we need to shift the coordinates, and than shift them back.\n",
    "\n",
    "<img src ='./3_1.png'>\n",
    "Transform, some part on the right is lost, because of choosen frame size\n",
    "<img src ='./3_2.png'>\n",
    "And Back\n",
    "<img src ='./5_3.png'>"
   ]
  },
  {
   "cell_type": "markdown",
   "metadata": {},
   "source": [
    "#### Performance\n",
    "\n",
    "First of let's see how algorithm without pyramid, blur and branch-and-bound works. Some times it fails to converge to what we expect, and converges to some local minimum, even on quite small error tollerance. \n",
    "\n",
    "<img src ='./4_1.png'> \n",
    "<img src ='./5_1.png'>\n",
    "For some pictures it can be solved appliying blur to image.\n",
    "\n",
    "<img src ='./5_2.png'>\n",
    "\n",
    "We didn't see any convergence failtures when we applied branch-and-bound, cause it usually finds rather good initial approximation. \n",
    "<img src ='./4_2.png'>\n",
    "<img src ='./5_3.png'>"
   ]
  },
  {
   "cell_type": "markdown",
   "metadata": {},
   "source": [
    "#### Features\n",
    "\n",
    "Some times we can apply algorithm to pictures which are not actually lowranked, but have at least some symmetry. For example we can rotate faces. \n",
    "\n",
    "Also we made an experimet with video generating. Which is on a github\n",
    "\n",
    "#### Difficulties and solutions\n",
    "\n",
    "We faced a lot of troubles with correct image processing on python. The main difficulty was that openCV image transformation routines are able to loose information about image if after transformation it goes otside the frame. To solve this, we wrote a few routines, which shift coordinates by multiplying transformation matrix to special shift matrix, and resize image frame so the significant information is not lost. \n",
    "\n",
    "On the other hand we succesfully splited the work and were able to finish few hours before the deadline. \n",
    "\n",
    "Now we have fully working open source code on python which (maybe after little cleaning) can be applied, and improved for further tasks. \n"
   ]
  },
  {
   "cell_type": "markdown",
   "metadata": {},
   "source": [
    "## Team\n",
    "\n",
    "##### West coast low ranked! \n",
    "\n",
    "Anna Voevodskaya\n",
    "Iluya Gukov\n",
    "Polina Sannikova\n",
    "Anton Rykachevskiy\n",
    "\n",
    "Jobsplit was approximatly the following:\n",
    "\n",
    "#### Anna Voevodskaya:\n",
    "- Project idea\n",
    "- Initial leterature research\n",
    "- Branch-and-bound\n",
    "- Presentation preparing\n",
    "- Performance\n",
    "\n",
    "#### Ilya Gukov:\n",
    "- Main iterational cycle\n",
    "- Jacobian\n",
    "- Branch-and-Bound \n",
    "- Additional routines\n",
    "\n",
    "#### Polina Sannikova\n",
    "- Main iteration cycle\n",
    "- Inner ALM (inner cycle)\n",
    "- Theory \n",
    "- Image transformations\n",
    "- Blur\n",
    "- Interface\n",
    "- Additional routines\n",
    "\n",
    "#### Anton Rykachevskiy\n",
    "- Branch-and-Bound\n",
    "- Pyramid\n",
    "- Theory\n",
    "- Image tranformations\n",
    "- Debug\n",
    "- Team managment\n",
    "- Final report and presentation performance\n",
    "\n"
   ]
  },
  {
   "cell_type": "markdown",
   "metadata": {},
   "source": [
    "## Literature and resources \n",
    "\n",
    "[1] Candes, E., Li, X., Ma, Y., Wright, J.: Robust principal component analysis preprint (2009)\n",
    "\n",
    "[2] Zhengdong Zhang y , Xiao Liang y , Arvind Ganesh z , and Yi Ma: TILT: Transform Invariant Low-rank Textures.\n",
    "\n",
    "[3] Zihan Zhou, Allen Y. Yan and Yi Ma: Holistic 3D Reconstruction of Urban Structures from Low-Rank Textures\n",
    "Hossein Mobahi\n",
    "\n"
   ]
  },
  {
   "cell_type": "code",
   "execution_count": null,
   "metadata": {
    "collapsed": true
   },
   "outputs": [],
   "source": []
  }
 ],
 "metadata": {
  "kernelspec": {
   "display_name": "Python 2",
   "language": "python",
   "name": "python2"
  },
  "language_info": {
   "codemirror_mode": {
    "name": "ipython",
    "version": 2
   },
   "file_extension": ".py",
   "mimetype": "text/x-python",
   "name": "python",
   "nbconvert_exporter": "python",
   "pygments_lexer": "ipython2",
   "version": "2.7.12"
  }
 },
 "nbformat": 4,
 "nbformat_minor": 0
}
