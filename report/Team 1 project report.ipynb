{
 "cells": [
  {
   "cell_type": "markdown",
   "metadata": {},
   "source": [
    "# Team 1, West Coast Low Ranked \n",
    "\n",
    "Anna Voevodskaya,\n",
    "Ilya Gukov,\n",
    "Polina Sannikova,\n",
    "Anton Rykachevskiy"
   ]
  },
  {
   "cell_type": "markdown",
   "metadata": {},
   "source": [
    "## Idea & Motivation\n",
    "One fundamental problem of computer vision is to recognize certain features or images in scenes. In this project our team focused on problem of recognizing and extracting regular patterns on planar surface. These patterns also can be described as Low-Ranked matrices. Camera can deform low-rank image with some affine or projective transformation, so the problem is to find this tranformation, and recover low-rank structure.  \n"
   ]
  },
  {
   "cell_type": "markdown",
   "metadata": {},
   "source": [
    "## Problem formulation.\n",
    "\n",
    "#### Formulation\n",
    "\n",
    "As it was mentioned above, we work with the images which after some homography transformation can be represented as a sum of the low rank matrix $A$ and a sparse error matrix $E$\n",
    " . So we can fromulate the optimization objective in the following way $$\\min rk(A)+\\|E\\|_{0}$$\n",
    " Than we add the constraint $$\\tau I=A+E$$\n",
    " where $\\tau$ is the homography we are searching for and $I$ is the matrix of the original image. As it was show recently [1], this problem usually can be reformulated in the following way:\n",
    "\n",
    "$$\\begin{array}{c}\n",
    "\\min\\|A\\|_{\\sigma}+\\|E\\|_{1}\\\\\n",
    "\\tau I=A+E\n",
    "\\end{array}$$\n",
    "\n",
    "#### Summary\n",
    "\n",
    "Our task will be to write python implementation of TILT, and evaluate performance."
   ]
  },
  {
   "cell_type": "markdown",
   "metadata": {},
   "source": [
    "## Data.\n",
    "\n",
    "Actually data for this task is floating arround us every second. We used some pictures from original paper[2], and also some pics of Skoltech, chessboards, e.t.c.\n",
    "\n",
    "## Evaluation.\n",
    "\n",
    "#### Homography\n",
    "\n",
    "To strart with let us precisely define the transformations we are working with. Homography is a coordinate transformation which transform straght lines to straight lines. In homogenous coordinates it can be represented as $3\\times3$\n",
    "  matrix. We can think of our image as of the continious function of two variables $I(x,y)$\n",
    " , where $I$\n",
    "  defines intensity in target point. Let $H$\n",
    "  be the matrix of homography, than we transform the coordinates in the following way \n",
    "  \n",
    "  $$\\left[\\begin{array}{c}\n",
    "x\\\\\n",
    "y\n",
    "\\end{array}\\right]\\rightarrow\\left[\\begin{array}{c}\n",
    "x\\\\\n",
    "y\\\\\n",
    "1\n",
    "\\end{array}\\right]\\rightarrow H\\left[\\begin{array}{c}\n",
    "x\\\\\n",
    "y\\\\\n",
    "1\n",
    "\\end{array}\\right]\\rightarrow\\left[\\begin{array}{c}\n",
    "u\\\\\n",
    "v\\\\\n",
    "s\n",
    "\\end{array}\\right]\\rightarrow\\left[\\begin{array}{c}\n",
    "\\frac{u}{s}\\\\\n",
    "\\frac{v}{s}\\\\\n",
    "1\n",
    "\\end{array}\\right]\\rightarrow\\left[\\begin{array}{c}\n",
    "\\frac{u}{s}\\\\\n",
    "\\frac{v}{s}\n",
    "\\end{array}\\right]$$\n",
    " And thus intensity is transformed like this $$\\tau I(x,y)=I(\\frac{u}{s},\\frac{v}{s})$$\n",
    " Later we will need a Jacobi matrix of this transformation. "
   ]
  },
  {
   "cell_type": "markdown",
   "metadata": {},
   "source": [
    "#### Optimization\n",
    "\n",
    "$$\\begin{array}{c}\n",
    "\\min_{\\tau,A,E}\\|A\\|_{\\sigma}+\\|E\\|_{1}\\\\\n",
    "\\tau I=A+E\n",
    "\\end{array}$$\n",
    " \n",
    "\n",
    "Objective is convex, but the constrains are strange. So the first idea is to linearise constraints around $\\tau_{o}$\n",
    "  , than solve covex problem using Augmented Lagrangian Method(ALM), shift tau, and repeat until convergence. So on each step of outer loop we formulate new problem:\n",
    "\n",
    "$$\\begin{array}{c}\n",
    "\\min_{\\Delta\\tau,A,E}\\|A\\|_{\\sigma}+\\|E\\|_{1}\\\\\n",
    "\\tau_{0} I+\\nabla I_{\\tau}\\Delta\\tau=A+E\n",
    "\\end{array}$$\n",
    " \n",
    "Where in $\\nabla_{\\tau}I$, $\\tau$ should be considered as a parametres of transformation. We calculate gradient by this parametres the following way:\n",
    "\n",
    "$$\\nabla_{\\tau}I=\\frac{\\partial}{\\partial\\tau_{i}}I(x,y)=\\frac{\\partial}{\\partial\\tau_{i}}I(H(\\tau)(u,v))=\\frac{\\partial I}{\\partial u}\\frac{\\partial u}{\\partial\\tau_{i}}+\\frac{\\partial I}{\\partial v}\\frac{\\partial v}{\\partial\\tau_{i}}$$\n",
    "\n",
    "\n",
    "\n",
    "This problem is solved using augmented lagrangian. \n",
    "\n",
    "$$L=\\|A\\|_{\\sigma}+\\|E\\|_{1}+\\left\\langle Y,C\\right\\rangle +\\frac{\\mu}{2}\\|C\\|_{F}^{2}$$\n",
    " where $C=\\tau_{0} I+\\nabla I_{\\tau}\\Delta\\tau-A-E$\n",
    " \n",
    "\n",
    "Basic iteration looks like this:\n",
    "\n",
    "$$\\begin{array}{c}\n",
    "A_{k},E_{k},\\Delta\\tau_{k}=argminL(Y=Y_{k-1})\\\\\n",
    "Y_{k}=Y_{k-1}-\\mu_{k-1}C_{k}\\\\\n",
    "\\mu_{k+1}=\\rho\\mu_{k}\n",
    "\\end{array}$$\n",
    " \n",
    "\n",
    "And the first minimization is solved one by one for each variable. \n",
    "\n",
    "![Figure 1][(/home/anton/skoltech/linalg/Final\\ Tilt/report/alg.png]\n",
    "\n",
    "Figure 1, is from original paper [2], describes algorithm in details. \n",
    "\n",
    "\n",
    " "
   ]
  },
  {
   "cell_type": "markdown",
   "metadata": {},
   "source": [
    "#### Additional improvments\n",
    "\n",
    "#### Branch and Bound\n",
    "\n",
    "As it will be shown later in the report, sometimes we converge to local minimum. To avoid this we use kind of branch and bound approach to define best initial transformation. \n",
    "\n",
    "At first step we initialize 5 rotation matrixes with different angles $t$ from zero to $\\pi / 3$\n",
    "\n",
    "$$\\left[\\begin{array}{ccc}\n",
    "cos(t) & -sin(t) & 0\\\\\n",
    "sin(t) & cos(t) & 0\\\\\n",
    "0 & 0 & 1\n",
    "\\end{array}\\right]$$\n",
    " \n",
    "and apply these matrixes to original image. \n",
    "For each transformation we calculate objective, and choose that rotation matrix wich gives the smallest.\n",
    "\n",
    "Than we initialize set of horizontal affine skews with the parameter $t$, which make from original square segmet parallelogram segment.\n",
    "\n",
    "$$\\left[\\begin{array}{ccc}\n",
    "1 & t & 0\\\\\n",
    "0 & 1 & 0\\\\\n",
    "0 & 0 & 1\n",
    "\\end{array}\\right]$$\n",
    "\n",
    "We apply them to rotated image, and again we chose the best one.\n",
    "\n",
    "Afterwrds we do the same for vertical skew \n",
    "\n",
    "$$\\left[\\begin{array}{ccc}\n",
    "1 & 0 & 0\\\\\n",
    "t & 1 & 0\\\\\n",
    "0 & 0 & 1\n",
    "\\end{array}\\right]$$\n",
    "\n",
    "Than, finally, we set initial matrix like multiplication of all these three\n",
    "\n",
    "\n",
    "$$I = \\left[\\begin{array}{ccc}\n",
    "1 & 0 & 0\\\\\n",
    "t_3 & 1 & 0\\\\\n",
    "0 & 0 & 1\n",
    "\\end{array}\\right]\\left[\\begin{array}{ccc}\n",
    "1 & t_2 & 0\\\\\n",
    "0 & 1 & 0\\\\\n",
    "0 & 0 & 1\n",
    "\\end{array}\\right]\\left[\\begin{array}{ccc}\n",
    "cos(t_1) & -sin(t_1) & 0\\\\\n",
    "sin(t_1) & cos(t_1) & 0\\\\\n",
    "0 & 0 & 1\n",
    "\\end{array}\\right]$$\n",
    "\n",
    "Here $t_1, t_2$ and $t_3$ denotes best parameters on each of the steps."
   ]
  },
  {
   "cell_type": "markdown",
   "metadata": {},
   "source": [
    "#### Blur\n",
    "The second idea is to blur image before processing, this makes structures “more low ranked”, for example text becomes more low ranked, after bluring. As you can see in performance section, this some time helps to find global minimum instead of local one."
   ]
  },
  {
   "cell_type": "markdown",
   "metadata": {},
   "source": [
    "#### Pyramid\n",
    "\n",
    "The last idea is to use pyramid approach. \n",
    "We take initial image and scale it down in $2^k$ times, where $k$ is some predefined parameter. Than we find correct transformation for this small image $\\tau_{k}$. Than we take initial image and scale it down in $2^{k-1}$ times, we set initial transformation as $\\tau_{k}$, and thus search around it. And so on till we find transformation for original image.\n",
    "\n",
    "As you will see in performance section this significantly reduces evaluation time, and some time tends to find global optimum instead of local one. "
   ]
  },
  {
   "cell_type": "markdown",
   "metadata": {},
   "source": [
    "## Related work\n",
    "\n",
    "The list of related articles can be found in literature. Actually this exact algorithm was realised on matlab by Visual Computing Group, Microsoft Research Asia, Beijing and Coordinated Science Lab, University of Illinois at Urbana-Champaign [2]. Also some job was done to recover the shapes of cilindrical objects with low ranked structers on them[3]"
   ]
  },
  {
   "cell_type": "markdown",
   "metadata": {},
   "source": [
    "## Our results\n",
    "\n",
    "#### Code\n",
    "\n",
    "Working code of TILT on python can be found here https://github.com/AntonRykachevskiy/pytilt\n",
    "\n",
    "\n",
    "\n",
    "When you run the code, the picture you have loaded appears, and you have to click on the upper left point of the lowranked region, and close the picture, it appears again and you click on the bottom right corner, and close it again. After some time program will produce a result"
   ]
  },
  {
   "cell_type": "markdown",
   "metadata": {},
   "source": [
    "#### How it looks\n",
    "Here some of our results. Purple is original window set by the user, yellow is a window with low ranked texture, which after transformation will be in the coordinates of original. \n",
    "\n",
    "\n",
    "![beauty](/home/anton/skoltech/linalg/Final\\ Tilt/report/1.png)"
   ]
  },
  {
   "cell_type": "markdown",
   "metadata": {},
   "source": [
    "#### Features\n",
    "\n",
    "Some times we can apply algorithm to pictures which are not actually lowranked, but have at least some symmetry. For example we can rotate faces. \n",
    "\n",
    "Also we made an experimet with video generating, where we put moving text on perspective photo of Skoltech building.\n",
    "First we find correct transformation, than we transform the perspective photo to flat one. Than we add frames with text, and finally transform every frame in the inverse way.\n",
    "\n",
    "![Skoltech](/home/anton/skoltech/linalg/Final\\ Tilt/report/3_1.png)\n",
    "Some part on the right is lost, because of choosen frame size\n",
    "\n",
    "![Skoltech flat](/home/anton/skoltech/linalg/Final\\ Tilt/report/3_2.png)\n",
    "\n",
    "Funny thing on this exact picture is that we got the photo of frontage, without lighter which stands in front of the building! "
   ]
  },
  {
   "cell_type": "markdown",
   "metadata": {},
   "source": [
    "#### Difficulties and solutions\n",
    "\n",
    "We faced a lot of troubles with correct image processing on python. The main difficulty was that openCV image transformation routines are able to loose information about image if after transformation it goes otside the frame. To solve this, we wrote a few routines, which shift coordinates by multiplying transformation matrix to special shift matrix, and resize image frame so the significant information is not lost. \n",
    "\n",
    "On the other hand we succesfully splited the work and were able to finish few hours before the deadline. \n",
    "\n",
    "Now we have fully working open source code on python which (maybe after little cleaning) can be applied, and improved for further tasks. "
   ]
  },
  {
   "cell_type": "markdown",
   "metadata": {},
   "source": [
    "## Team\n",
    "\n",
    "#### West coast low ranked! \n",
    "\n",
    "Anna Voevodskaya,\n",
    "Ilya Gukov,\n",
    "Polina Sannikova,\n",
    "Anton Rykachevskiy\n",
    "\n",
    "Jobsplit was approximatly the following:\n",
    "\n",
    "#### Anna Voevodskaya:\n",
    "- Project idea\n",
    "- Initial literature research\n",
    "- Branch-and-bound\n",
    "- Presentation preparing\n",
    "- Performance\n",
    "- Stop criterium\n",
    "- Debug\n",
    "\n",
    "#### Ilya Gukov:\n",
    "- Main iteration cycle\n",
    "- Jacobian\n",
    "- Branch-and-Bound \n",
    "- Additional routines\n",
    "\n",
    "#### Polina Sannikova\n",
    "- Main iteration cycle\n",
    "- Inner ALM (inner cycle)\n",
    "- Theory \n",
    "- Image transformations\n",
    "- Blur\n",
    "- Interface\n",
    "- Additional routines\n",
    "- Performance\n",
    "\n",
    "#### Anton Rykachevskiy\n",
    "- Branch-and-Bound\n",
    "- Pyramid\n",
    "- Theory\n",
    "- Image tranformations\n",
    "- Debug\n",
    "- Performance\n",
    "- Team managment\n",
    "- Final report and presentation performance\n",
    "\n"
   ]
  },
  {
   "cell_type": "markdown",
   "metadata": {},
   "source": [
    "## Literature and resources \n",
    "\n",
    "[1] Candes, E., Li, X., Ma, Y., Wright, J.: Robust principal component analysis preprint (2009)\n",
    "\n",
    "[2] Zhengdong Zhang y , Xiao Liang y , Arvind Ganesh z , and Yi Ma: TILT: Transform Invariant Low-rank Textures.\n",
    "\n",
    "[3] Zihan Zhou, Allen Y. Yan and Yi Ma: Holistic 3D Reconstruction of Urban Structures from Low-Rank Textures\n",
    "Hossein Mobahi\n",
    "\n"
   ]
  },
  {
   "cell_type": "code",
   "execution_count": null,
   "metadata": {
    "collapsed": true
   },
   "outputs": [],
   "source": []
  }
 ],
 "metadata": {
  "kernelspec": {
   "display_name": "Python 2",
   "language": "python",
   "name": "python2"
  },
  "language_info": {
   "codemirror_mode": {
    "name": "ipython",
    "version": 2
   },
   "file_extension": ".py",
   "mimetype": "text/x-python",
   "name": "python",
   "nbconvert_exporter": "python",
   "pygments_lexer": "ipython2",
   "version": "2.7.12"
  }
 },
 "nbformat": 4,
 "nbformat_minor": 0
}
